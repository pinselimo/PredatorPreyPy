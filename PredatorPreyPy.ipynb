{
 "cells": [
  {
   "cell_type": "markdown",
   "metadata": {},
   "source": [
    "# Räuber Beute Modell"
   ]
  },
  {
   "cell_type": "code",
   "execution_count": 4,
   "metadata": {},
   "outputs": [],
   "source": [
    "import numpy as np"
   ]
  },
  {
   "cell_type": "code",
   "execution_count": 5,
   "metadata": {},
   "outputs": [],
   "source": [
    "METABOLISM = 1\n",
    "FOOD_MIN_INIT = 1\n",
    "FOOD_MAX_INIT = 5"
   ]
  },
  {
   "cell_type": "code",
   "execution_count": 6,
   "metadata": {},
   "outputs": [],
   "source": [
    "class Agent:\n",
    "    def __init__(self, env, x, y, energy):\n",
    "        self._env = env\n",
    "        self._x = x\n",
    "        self._y = y\n",
    "        self._energy = energy\n",
    "        \n",
    "    def move(self, dx, dy):\n",
    "        if self.energy <= 0:\n",
    "            return\n",
    "        \n",
    "        self._x += dx\n",
    "        self._y += dy\n",
    "        \n",
    "        if self._x >= self._env.X_MAX:\n",
    "            self._x = 0\n",
    "        elif self._x < 0:\n",
    "            self._x = self._env.X_MAX-1\n",
    "            \n",
    "        if self._y >= self._env.Y_MAX:\n",
    "            self._y = 0\n",
    "        elif self._y < 0:\n",
    "            self._y = self._env.Y_MAX-1\n",
    "        \n",
    "        self._energy -= METABOLISM\n",
    "        \n",
    "    def find_agent(self, agents):\n",
    "        for a in agents:\n",
    "            if self.x == a.x and self.y == a.y:\n",
    "                return a\n",
    "        return None\n",
    "    \n",
    "    def _breed(self, other, agents):\n",
    "        if not other is None:\n",
    "            energy_breed = np.round((self.energy + other.energy) / 2)\n",
    "            offspring = Prey(self.x, self.y, energy_breed)\n",
    "            agents.append(offspring)\n",
    "          \n",
    "    @property\n",
    "    def x(self):\n",
    "        return self._x\n",
    "    \n",
    "    @property\n",
    "    def y(self):\n",
    "        return self._y\n",
    "    \n",
    "    @property\n",
    "    def energy(self):\n",
    "        return self._energy"
   ]
  },
  {
   "cell_type": "code",
   "execution_count": 7,
   "metadata": {},
   "outputs": [],
   "source": [
    "class Prey(Agent):\n",
    "    def eat(self, amount):\n",
    "        self._energy += amount\n",
    "        \n",
    "    def get_eaten(self):\n",
    "        self._energy = 0\n",
    "        \n",
    "    def breed(self):\n",
    "        p = self.find_agent(self._env.prey)\n",
    "        self._breed(p, self._env.prey)"
   ]
  },
  {
   "cell_type": "code",
   "execution_count": 8,
   "metadata": {},
   "outputs": [],
   "source": [
    "class Predator(Agent):\n",
    "    def eat(self):\n",
    "        p = self.find_agent(self._env.prey)\n",
    "        if not p is None:\n",
    "            self._energy += p.energy\n",
    "            p.get_eaten()\n",
    "        \n",
    "    def breed(self):\n",
    "        p = self.find_agent(self._env.predators)\n",
    "        self._breed(p, self._env.predators)"
   ]
  },
  {
   "cell_type": "code",
   "execution_count": 9,
   "metadata": {},
   "outputs": [],
   "source": [
    "class Environment:\n",
    "    def __init__(self, dims, n_predators, n_prey):\n",
    "        x_max, y_max = dims\n",
    "        self.X_MAX = x_max\n",
    "        self.Y_MAX = y_max\n",
    "        \n",
    "        self.predators = [\n",
    "            Predator(\n",
    "                self,\n",
    "                np.random.randint(0, x_max),\n",
    "                np.random.randint(0, y_max),\n",
    "                np.random.randint(FOOD_MIN_INIT, FOOD_MAX_INIT)\n",
    "                ) \n",
    "            for _ in range(n_predators)\n",
    "            ]  \n",
    "        \n",
    "        self.prey = [\n",
    "            Prey(\n",
    "                self,\n",
    "                np.random.randint(0, x_max),\n",
    "                np.random.randint(0, y_max),\n",
    "                np.random.randint(FOOD_MIN_INIT, FOOD_MAX_INIT)\n",
    "                ) \n",
    "            for _ in range(n_prey)\n",
    "            ]\n",
    "    \n",
    "    def tick(self):\n",
    "        # breed\n",
    "        for p in self.prey + self.predators:\n",
    "            p.breed()\n",
    "            \n",
    "        # move\n",
    "        for p in self.prey + self.predators:\n",
    "            dx = np.random.randint(0,3)-1\n",
    "            dy = np.random.randint(0,3)-1\n",
    "            \n",
    "            p.move(dx, dy)\n",
    "        \n",
    "        # feed\n",
    "        for p in self.prey:\n",
    "            p.eat(np.random.randint(0,3))\n",
    "            \n",
    "        for p in self.predators:\n",
    "            p.eat()\n",
    "            \n",
    "        # check alive\n",
    "        for p in self.prey:\n",
    "            if p.energy <= 0:\n",
    "                self.prey.remove(p)\n",
    "        \n",
    "        for p in self.predators:\n",
    "            if p.energy <= 0:\n",
    "                self.predators.remove(p)\n",
    "    "
   ]
  },
  {
   "cell_type": "code",
   "execution_count": null,
   "metadata": {},
   "outputs": [],
   "source": []
  }
 ],
 "metadata": {
  "kernelspec": {
   "display_name": "Python 3",
   "language": "python",
   "name": "python3"
  },
  "language_info": {
   "codemirror_mode": {
    "name": "ipython",
    "version": 3
   },
   "file_extension": ".py",
   "mimetype": "text/x-python",
   "name": "python",
   "nbconvert_exporter": "python",
   "pygments_lexer": "ipython3",
   "version": "3.7.7"
  }
 },
 "nbformat": 4,
 "nbformat_minor": 4
}
